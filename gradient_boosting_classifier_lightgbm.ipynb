{
 "cells": [
  {
   "cell_type": "markdown",
   "metadata": {},
   "source": [
    "## LightGBM  classifier"
   ]
  },
  {
   "cell_type": "code",
   "execution_count": 1,
   "metadata": {},
   "outputs": [],
   "source": [
    "import numpy as np\n",
    "import pandas as pd"
   ]
  },
  {
   "cell_type": "markdown",
   "metadata": {},
   "source": [
    "### Text preprocessing"
   ]
  },
  {
   "cell_type": "code",
   "execution_count": 2,
   "metadata": {},
   "outputs": [],
   "source": [
    "df_selected = pd.read_csv('data/rusentiment/rusentiment_preselected_posts.csv')\n",
    "df_random = pd.read_csv('data/rusentiment/rusentiment_random_posts.csv')\n",
    "df_test = pd.read_csv('data/rusentiment/rusentiment_test.csv')"
   ]
  },
  {
   "cell_type": "code",
   "execution_count": 3,
   "metadata": {},
   "outputs": [],
   "source": [
    "df_train = pd.concat((df_selected, df_random))#available other ways to concatenate\n",
    "df_train.reset_index(inplace=True, drop=True)"
   ]
  },
  {
   "cell_type": "code",
   "execution_count": 4,
   "metadata": {},
   "outputs": [],
   "source": [
    "from ufal.udpipe import Model, Pipeline"
   ]
  },
  {
   "cell_type": "code",
   "execution_count": 5,
   "metadata": {},
   "outputs": [],
   "source": [
    "# Original code https://github.com/akutuzov/webvectors/blob/master/preprocessing/rus_preprocessing_udpipe.py\n",
    "\n",
    "def tag_ud(pipeline, text='Text in string format', pos=True):\n",
    "    # если частеречные тэги не нужны (например, их нет в модели), выставьте pos=False\n",
    "    # в этом случае на выход будут поданы только леммы\n",
    "\n",
    "    # обрабатываем текст, получаем результат в формате conllu:\n",
    "    processed = pipeline.process(text)\n",
    "\n",
    "    # пропускаем строки со служебной информацией:\n",
    "    content = [l for l in processed.split('\\n') if not l.startswith('#')]\n",
    "\n",
    "    # извлекаем из обработанного текста лемму и тэг\n",
    "    tagged = [w.split('\\t')[2].lower() + '_' + w.split('\\t')[3] for w in content if w]\n",
    "    result = []\n",
    "    for t in tagged:\n",
    "        if (len(t.split('_')) == 2):\n",
    "            lemma, tag = t.split('_')\n",
    "            # убираем числительные и все знаки пунктуации кроме скобок\n",
    "            if tag == 'NUM' or (tag == 'PUNCT' and lemma not in ['(', ')']):\n",
    "                continue\n",
    "            if pos:\n",
    "                result.append(lemma + '_' + tag)\n",
    "            else:\n",
    "                result.append(lemma)\n",
    "    return result"
   ]
  },
  {
   "cell_type": "code",
   "execution_count": 6,
   "metadata": {},
   "outputs": [],
   "source": [
    "#! wget http://rusvectores.org/static/models/udpipe_syntagrus.model\n",
    "udpipe_filename = 'udpipe_syntagrus.model'\n",
    "model = Model.load(udpipe_filename)\n",
    "process_pipeline = Pipeline(model, 'tokenize', Pipeline.DEFAULT, Pipeline.DEFAULT, 'conllu')"
   ]
  },
  {
   "cell_type": "code",
   "execution_count": 7,
   "metadata": {},
   "outputs": [],
   "source": [
    "df_train['lemmatized_tokens'] = df_train.apply(lambda x: tag_ud(process_pipeline, x['text'], pos=False), axis=1)\n",
    "df_test['lemmatized_tokens'] = df_test.apply(lambda x: tag_ud(process_pipeline, x['text'], pos=False), axis=1)"
   ]
  },
  {
   "cell_type": "markdown",
   "metadata": {},
   "source": [
    "### Encoding labels of classes"
   ]
  },
  {
   "cell_type": "code",
   "execution_count": 9,
   "metadata": {},
   "outputs": [],
   "source": [
    "from sklearn import preprocessing"
   ]
  },
  {
   "cell_type": "code",
   "execution_count": 10,
   "metadata": {},
   "outputs": [],
   "source": [
    "le = preprocessing.LabelEncoder()"
   ]
  },
  {
   "cell_type": "code",
   "execution_count": 14,
   "metadata": {},
   "outputs": [],
   "source": [
    "df_train['lemmatized_text'] = df_train['lemmatized_tokens'].str.join(' ')\n",
    "df_test['lemmatized_text'] = df_test['lemmatized_tokens'].str.join(' ')"
   ]
  },
  {
   "cell_type": "code",
   "execution_count": 15,
   "metadata": {},
   "outputs": [],
   "source": [
    "X_train = df_train['lemmatized_text'].values\n",
    "X_test = df_test['lemmatized_text'].values\n",
    "\n",
    "Y_train = le.fit_transform(df_train['label'].values)\n",
    "Y_test = le.transform(df_test['label'].values)"
   ]
  },
  {
   "cell_type": "markdown",
   "metadata": {},
   "source": [
    "### Using TfidfVectorizer"
   ]
  },
  {
   "cell_type": "code",
   "execution_count": 20,
   "metadata": {},
   "outputs": [],
   "source": [
    "from sklearn.feature_extraction.text import TfidfVectorizer\n",
    "vectorizer = TfidfVectorizer(ngram_range=(1,1), sublinear_tf=False)\n",
    "X_train_vect = vectorizer.fit_transform(X_train)\n",
    "X_test_vect = vectorizer.transform(X_test)"
   ]
  },
  {
   "cell_type": "markdown",
   "metadata": {},
   "source": [
    "### Learning model"
   ]
  },
  {
   "cell_type": "code",
   "execution_count": 21,
   "metadata": {},
   "outputs": [],
   "source": [
    "#functions for fast model scoring\n",
    "from sklearn.metrics import f1_score, precision_score, recall_score, confusion_matrix\n",
    "\n",
    "def score_model(y_pred, y_true):\n",
    "    average = 'weighted'\n",
    "    f1 = f1_score(y_true, y_pred, average=average)\n",
    "    precision = precision_score(y_true, y_pred, average=average)\n",
    "    recall = recall_score(y_true, y_pred, average=average)\n",
    "    return f1, precision, recall\n",
    "\n",
    "def check_model(y_pred,Y_test):\n",
    "    f1, precision, recall = score_model(y_pred,Y_test)\n",
    "    print(f'Precision: {precision:.4f}')\n",
    "    print(f'Recall: {recall:.4f}')\n",
    "    print(f'f1-score: {f1:.4f}')\n"
   ]
  },
  {
   "cell_type": "code",
   "execution_count": 46,
   "metadata": {},
   "outputs": [],
   "source": [
    "import lightgbm as lgb\n",
    "from sklearn.pipeline import make_pipeline\n",
    "from sklearn.pipeline import Pipeline\n",
    "from sklearn.model_selection import GridSearchCV\n",
    "\n",
    "from sklearn.model_selection import StratifiedKFold"
   ]
  },
  {
   "cell_type": "code",
   "execution_count": 142,
   "metadata": {},
   "outputs": [],
   "source": [
    "# X_train_split, X_valid, Y_train_split, Y_valid= train_test_split(X_train_vect, Y_train, test_size=0.33, shuffle=True)\n",
    "# dataset_train = lgb.Dataset(X_train_split, label = Y_train_split)\n",
    "# dataset_valid = lgb.Dataset(X_valid, label = Y_valid)"
   ]
  },
  {
   "cell_type": "code",
   "execution_count": 47,
   "metadata": {},
   "outputs": [],
   "source": [
    "k = 5\n",
    "skf = StratifiedKFold(n_splits=k, random_state=42)"
   ]
  },
  {
   "cell_type": "code",
   "execution_count": 68,
   "metadata": {},
   "outputs": [],
   "source": [
    "lgbm_pipeline = Pipeline([\n",
    "    ('lgbm', lgb.LGBMClassifier() )\n",
    "])\n",
    "\n",
    "\n",
    "param_grid = {\n",
    "    'lgbm__learning_rate':[0.1, 0.05, 0.01],\n",
    "    'lgbm__n_estimators':[100,200,250],\n",
    "    'lgbm__max_depth':[3,5,10]\n",
    "}\n",
    "\n",
    "grid = GridSearchCV(estimator=gbc_pipeline,scoring='f1_macro', param_grid=param_grid, cv=skf)"
   ]
  },
  {
   "cell_type": "code",
   "execution_count": 69,
   "metadata": {},
   "outputs": [],
   "source": [
    "grid_model = grid.fit(X_train_vect,Y_train)"
   ]
  },
  {
   "cell_type": "code",
   "execution_count": 71,
   "metadata": {},
   "outputs": [
    {
     "data": {
      "text/plain": [
       "{'lgbm__learning_rate': 0.1, 'lgbm__max_depth': 10, 'lgbm__n_estimators': 250}"
      ]
     },
     "execution_count": 71,
     "metadata": {},
     "output_type": "execute_result"
    }
   ],
   "source": [
    "grid_model.best_params_"
   ]
  },
  {
   "cell_type": "code",
   "execution_count": 72,
   "metadata": {},
   "outputs": [],
   "source": [
    "Y_pred = grid_model.predict(X_test_vect)"
   ]
  },
  {
   "cell_type": "code",
   "execution_count": 73,
   "metadata": {},
   "outputs": [
    {
     "name": "stdout",
     "output_type": "stream",
     "text": [
      "Precision: 0.6365\n",
      "Recall: 0.6542\n",
      "f1-score: 0.6136\n"
     ]
    }
   ],
   "source": [
    "check_model(Y_pred,Y_test)"
   ]
  },
  {
   "cell_type": "code",
   "execution_count": 70,
   "metadata": {},
   "outputs": [],
   "source": [
    "#{'lgbm__learning_rate': 0.1, 'lgbm__max_depth': 5, 'lgbm__n_estimators': 250}\n",
    "# Precision: 0.6397\n",
    "# Recall: 0.6461\n",
    "# f1-score: 0.5967"
   ]
  },
  {
   "cell_type": "markdown",
   "metadata": {},
   "source": [
    "### Confusion matrix"
   ]
  },
  {
   "cell_type": "code",
   "execution_count": 74,
   "metadata": {},
   "outputs": [
    {
     "data": {
      "image/png": "[encoded data removed]",
      "text/plain": [
       "<Figure size 720x576 with 2 Axes>"
      ]
     },
     "metadata": {
      "needs_background": "light"
     },
     "output_type": "display_data"
    }
   ],
   "source": [
    "import matplotlib.pyplot as plt\n",
    "import seaborn as sns\n",
    "%matplotlib inline\n",
    "from sklearn.metrics import confusion_matrix\n",
    "conf_mat = confusion_matrix(Y_test, Y_pred)\n",
    "conf_mat_ratios = np.round(conf_mat / np.sum(conf_mat, axis=0),3)\n",
    "fig, ax = plt.subplots(figsize=(10,8))\n",
    "\n",
    "labels = sorted(list(set(le.inverse_transform(Y_pred))))\n",
    "sns.heatmap(conf_mat_ratios, annot=True, center=0, xticklabels=labels, yticklabels=labels)\n",
    "plt.ylabel('Actual')\n",
    "plt.xlabel('Predicted')\n",
    "plt.show()"
   ]
  },
  {
   "cell_type": "markdown",
   "metadata": {},
   "source": [
    "### Errors observing"
   ]
  },
  {
   "cell_type": "code",
   "execution_count": 75,
   "metadata": {},
   "outputs": [],
   "source": [
    "y_pred_labels = le.inverse_transform(Y_pred)\n",
    "y_test_labels = le.inverse_transform(Y_test)\n",
    "\n",
    "results = pd.DataFrame({'text':df_test.text, 'lemmatized_tokens':df_test.lemmatized_tokens,'predicted':y_pred_labels, 'actual':y_test_labels})\n",
    "errors = results[results.predicted != results.actual]"
   ]
  },
  {
   "cell_type": "code",
   "execution_count": 76,
   "metadata": {},
   "outputs": [
    {
     "data": {
      "image/png": "[encoded data removed]",
      "text/plain": [
       "<Figure size 864x576 with 1 Axes>"
      ]
     },
     "metadata": {
      "needs_background": "light"
     },
     "output_type": "display_data"
    }
   ],
   "source": [
    "fig, ax = plt.subplots(figsize=(12, 8))\n",
    "freq = pd.DataFrame({'Predicted': errors.predicted.value_counts(), 'Actual':errors.actual.value_counts()})\n",
    "freq.sort_values(by='Predicted', ascending=False).plot.bar(rot=0, ax=ax);"
   ]
  },
  {
   "cell_type": "code",
   "execution_count": 77,
   "metadata": {},
   "outputs": [
    {
     "data": {
      "text/html": [
       "<div>\n",
       "<style scoped>\n",
       "    .dataframe tbody tr th:only-of-type {\n",
       "        vertical-align: middle;\n",
       "    }\n",
       "\n",
       "    .dataframe tbody tr th {\n",
       "        vertical-align: top;\n",
       "    }\n",
       "\n",
       "    .dataframe thead th {\n",
       "        text-align: right;\n",
       "    }\n",
       "</style>\n",
       "<table border=\"1\" class=\"dataframe\">\n",
       "  <thead>\n",
       "    <tr style=\"text-align: right;\">\n",
       "      <th></th>\n",
       "      <th>text</th>\n",
       "      <th>lemmatized_tokens</th>\n",
       "      <th>predicted</th>\n",
       "      <th>actual</th>\n",
       "    </tr>\n",
       "  </thead>\n",
       "  <tbody>\n",
       "    <tr>\n",
       "      <th>3</th>\n",
       "      <td>Мы просто с  [id12210212|Елисеем]  психанули )...</td>\n",
       "      <td>[мы, просто, с, id12210212|елисей, психануть, ...</td>\n",
       "      <td>positive</td>\n",
       "      <td>skip</td>\n",
       "    </tr>\n",
       "    <tr>\n",
       "      <th>8</th>\n",
       "      <td>нельзя общаться с людьми, которые нуждаются в ...</td>\n",
       "      <td>[нельзя, общаться, с, человек, который, нуждат...</td>\n",
       "      <td>neutral</td>\n",
       "      <td>negative</td>\n",
       "    </tr>\n",
       "    <tr>\n",
       "      <th>11</th>\n",
       "      <td>Селфи дня ))</td>\n",
       "      <td>[селфи, день, ), )]</td>\n",
       "      <td>neutral</td>\n",
       "      <td>positive</td>\n",
       "    </tr>\n",
       "    <tr>\n",
       "      <th>15</th>\n",
       "      <td>Ураааа, нам сегодня три годика.....😊</td>\n",
       "      <td>[ураааа, мы, сегодня, гектодикар, 😊]</td>\n",
       "      <td>neutral</td>\n",
       "      <td>positive</td>\n",
       "    </tr>\n",
       "    <tr>\n",
       "      <th>17</th>\n",
       "      <td>Я не писал такое оскобление всем!!!!\\nМеня, ви...</td>\n",
       "      <td>[я, не, писать, такой, оскоблений, все, я, вид...</td>\n",
       "      <td>neutral</td>\n",
       "      <td>skip</td>\n",
       "    </tr>\n",
       "    <tr>\n",
       "      <th>18</th>\n",
       "      <td>...и так начало мини отпуска))И новых приключе...</td>\n",
       "      <td>[...ь, так, начинать, минять, отпуск, ), ), и,...</td>\n",
       "      <td>neutral</td>\n",
       "      <td>positive</td>\n",
       "    </tr>\n",
       "    <tr>\n",
       "      <th>19</th>\n",
       "      <td>Кинул в чс обиделся холоп понял что недостоин ...</td>\n",
       "      <td>[кидать, в, чс, обижаться, холоп, понимать, чт...</td>\n",
       "      <td>neutral</td>\n",
       "      <td>negative</td>\n",
       "    </tr>\n",
       "    <tr>\n",
       "      <th>21</th>\n",
       "      <td>Лучше бы у Тани не было никакого оргазма: услы...</td>\n",
       "      <td>[хороший, бы, в, таня, не, быть, никакой, орга...</td>\n",
       "      <td>neutral</td>\n",
       "      <td>skip</td>\n",
       "    </tr>\n",
       "    <tr>\n",
       "      <th>22</th>\n",
       "      <td>Аю,слова правильные,но такие унылые(((Сьешь ко...</td>\n",
       "      <td>[аю,слов, правильный, ,но, такой, унылый, (, (...</td>\n",
       "      <td>positive</td>\n",
       "      <td>negative</td>\n",
       "    </tr>\n",
       "    <tr>\n",
       "      <th>23</th>\n",
       "      <td>и тебе няшку)</td>\n",
       "      <td>[и, ты, няшка, )]</td>\n",
       "      <td>neutral</td>\n",
       "      <td>positive</td>\n",
       "    </tr>\n",
       "    <tr>\n",
       "      <th>25</th>\n",
       "      <td>по кругу, твою подругу КСЮХУ....))))))ахахахаахах</td>\n",
       "      <td>[по, круг, твой, подруга, ксюх, ), ), ), ), ),...</td>\n",
       "      <td>neutral</td>\n",
       "      <td>skip</td>\n",
       "    </tr>\n",
       "    <tr>\n",
       "      <th>26</th>\n",
       "      <td>без тебя_(</td>\n",
       "      <td>[без, (]</td>\n",
       "      <td>neutral</td>\n",
       "      <td>negative</td>\n",
       "    </tr>\n",
       "    <tr>\n",
       "      <th>27</th>\n",
       "      <td>я прыгнул в бездну из уюта пора готовиться к з...</td>\n",
       "      <td>[я, прыгнуть, в, бездна, из, уют, пора, готови...</td>\n",
       "      <td>neutral</td>\n",
       "      <td>negative</td>\n",
       "    </tr>\n",
       "    <tr>\n",
       "      <th>29</th>\n",
       "      <td>амммм, Каринка)))</td>\n",
       "      <td>[амммма, каринк, ), ), )]</td>\n",
       "      <td>neutral</td>\n",
       "      <td>skip</td>\n",
       "    </tr>\n",
       "    <tr>\n",
       "      <th>30</th>\n",
       "      <td>З 19 вересня тебе!</td>\n",
       "      <td>[с, вересня, ты]</td>\n",
       "      <td>neutral</td>\n",
       "      <td>skip</td>\n",
       "    </tr>\n",
       "    <tr>\n",
       "      <th>31</th>\n",
       "      <td>Мы растем!</td>\n",
       "      <td>[мы, растать]</td>\n",
       "      <td>neutral</td>\n",
       "      <td>positive</td>\n",
       "    </tr>\n",
       "    <tr>\n",
       "      <th>43</th>\n",
       "      <td>Я доверяю немногим. Но эти немногие, мне реаль...</td>\n",
       "      <td>[я, доверять, немногое, но, этот, немногие, я,...</td>\n",
       "      <td>neutral</td>\n",
       "      <td>positive</td>\n",
       "    </tr>\n",
       "    <tr>\n",
       "      <th>47</th>\n",
       "      <td>ПИДОР го скайп</td>\n",
       "      <td>[пидор, 1-й, скайп]</td>\n",
       "      <td>neutral</td>\n",
       "      <td>skip</td>\n",
       "    </tr>\n",
       "    <tr>\n",
       "      <th>48</th>\n",
       "      <td>чувак тупо лол___)) ахаххахаах</td>\n",
       "      <td>[чувак, тупо, ), ), ахаххаха]</td>\n",
       "      <td>neutral</td>\n",
       "      <td>positive</td>\n",
       "    </tr>\n",
       "    <tr>\n",
       "      <th>52</th>\n",
       "      <td>Я жаловался на мусор в ростовских рощах и парк...</td>\n",
       "      <td>[я, жаловаться, на, мусор, в, ростовский, роща...</td>\n",
       "      <td>neutral</td>\n",
       "      <td>negative</td>\n",
       "    </tr>\n",
       "    <tr>\n",
       "      <th>54</th>\n",
       "      <td>Кто-то заходит на мою страничку, с умилением с...</td>\n",
       "      <td>[кто-то, заходить, на, мой, страничка, с, умил...</td>\n",
       "      <td>neutral</td>\n",
       "      <td>positive</td>\n",
       "    </tr>\n",
       "    <tr>\n",
       "      <th>60</th>\n",
       "      <td>Улыбайтесь, господа! \\nВсе глупости мира делаю...</td>\n",
       "      <td>[улыбаться, господин, весь, глупость, мир, дел...</td>\n",
       "      <td>positive</td>\n",
       "      <td>neutral</td>\n",
       "    </tr>\n",
       "    <tr>\n",
       "      <th>63</th>\n",
       "      <td>После 6-ти часовой задержки в Бангкоке и второ...</td>\n",
       "      <td>[после, 6, часовой, задержка, в, бангкок, и, в...</td>\n",
       "      <td>neutral</td>\n",
       "      <td>positive</td>\n",
       "    </tr>\n",
       "    <tr>\n",
       "      <th>67</th>\n",
       "      <td>Друзья - это редкие драгоценности, они принося...</td>\n",
       "      <td>[друг, это, редкий, драгоценность, они, принос...</td>\n",
       "      <td>neutral</td>\n",
       "      <td>positive</td>\n",
       "    </tr>\n",
       "    <tr>\n",
       "      <th>68</th>\n",
       "      <td>Заболiв!(((</td>\n",
       "      <td>[заболiв, (, (, (]</td>\n",
       "      <td>neutral</td>\n",
       "      <td>skip</td>\n",
       "    </tr>\n",
       "    <tr>\n",
       "      <th>70</th>\n",
       "      <td>- Мадам, я вчера слышал ваше пение...\\n- О, чт...</td>\n",
       "      <td>[мадам, я, вчера, слышать, ваш, пение, о, что,...</td>\n",
       "      <td>negative</td>\n",
       "      <td>skip</td>\n",
       "    </tr>\n",
       "    <tr>\n",
       "      <th>72</th>\n",
       "      <td>Ужассс извращёная девочка!</td>\n",
       "      <td>[ужассс, извращёный, девочка]</td>\n",
       "      <td>neutral</td>\n",
       "      <td>negative</td>\n",
       "    </tr>\n",
       "    <tr>\n",
       "      <th>76</th>\n",
       "      <td>Для каждого хулигана найдется такая девушка, с...</td>\n",
       "      <td>[для, каждый, хулиган, находиться, такой, деву...</td>\n",
       "      <td>neutral</td>\n",
       "      <td>skip</td>\n",
       "    </tr>\n",
       "    <tr>\n",
       "      <th>81</th>\n",
       "      <td>[id27975702|Никита], Пффффффффффффффффффффффф ...</td>\n",
       "      <td>[id27975702|никита, пффффффффффффффффффффффф, ...</td>\n",
       "      <td>neutral</td>\n",
       "      <td>positive</td>\n",
       "    </tr>\n",
       "    <tr>\n",
       "      <th>90</th>\n",
       "      <td>Кто знает, в какой гостинице Москвы лучше всег...</td>\n",
       "      <td>[кто, знать, в, какой, гостиница, москва, хоро...</td>\n",
       "      <td>negative</td>\n",
       "      <td>neutral</td>\n",
       "    </tr>\n",
       "    <tr>\n",
       "      <th>...</th>\n",
       "      <td>...</td>\n",
       "      <td>...</td>\n",
       "      <td>...</td>\n",
       "      <td>...</td>\n",
       "    </tr>\n",
       "    <tr>\n",
       "      <th>2901</th>\n",
       "      <td>мой эро рисунок))</td>\n",
       "      <td>[мой, рисунок, ), )]</td>\n",
       "      <td>positive</td>\n",
       "      <td>neutral</td>\n",
       "    </tr>\n",
       "    <tr>\n",
       "      <th>2903</th>\n",
       "      <td>приспичило белке купить под конец осени кепку,...</td>\n",
       "      <td>[приспичить, белок, покупать, под, конец, осен...</td>\n",
       "      <td>neutral</td>\n",
       "      <td>skip</td>\n",
       "    </tr>\n",
       "    <tr>\n",
       "      <th>2904</th>\n",
       "      <td>Вместо лиц - аватары..вместо настроения - стат...</td>\n",
       "      <td>[вместо, лицо, аватары., .вместо, настроение, ...</td>\n",
       "      <td>neutral</td>\n",
       "      <td>negative</td>\n",
       "    </tr>\n",
       "    <tr>\n",
       "      <th>2905</th>\n",
       "      <td>Вятка! Спасибо за великолепные выходные! Это б...</td>\n",
       "      <td>[вятка, спасибо, за, великолепный, выходной, э...</td>\n",
       "      <td>positive</td>\n",
       "      <td>speech</td>\n",
       "    </tr>\n",
       "    <tr>\n",
       "      <th>2907</th>\n",
       "      <td>Поздравте...у меня сегодня племянница радилась:)</td>\n",
       "      <td>[поздравте., ., я, сегодня, племянница, радить...</td>\n",
       "      <td>neutral</td>\n",
       "      <td>positive</td>\n",
       "    </tr>\n",
       "    <tr>\n",
       "      <th>2908</th>\n",
       "      <td>Я люблю свою сестричку!!!!\\nВона в мене найкра...</td>\n",
       "      <td>[я, любить, свой, сестричка, вона, в, я, цьом**]</td>\n",
       "      <td>positive</td>\n",
       "      <td>skip</td>\n",
       "    </tr>\n",
       "    <tr>\n",
       "      <th>2911</th>\n",
       "      <td>Вот оно - искусство!!! ))</td>\n",
       "      <td>[вот, оно, искусство, ), )]</td>\n",
       "      <td>neutral</td>\n",
       "      <td>positive</td>\n",
       "    </tr>\n",
       "    <tr>\n",
       "      <th>2917</th>\n",
       "      <td>помню как было тяжело , но очень хочу это все ...</td>\n",
       "      <td>[помнить, как, быть, тяжелый, но, очень, хотет...</td>\n",
       "      <td>positive</td>\n",
       "      <td>negative</td>\n",
       "    </tr>\n",
       "    <tr>\n",
       "      <th>2920</th>\n",
       "      <td>Когда-нибудь и мы поженимся.</td>\n",
       "      <td>[когда-нибудь, и, мы, пожениться]</td>\n",
       "      <td>neutral</td>\n",
       "      <td>skip</td>\n",
       "    </tr>\n",
       "    <tr>\n",
       "      <th>2921</th>\n",
       "      <td>Я прощаю одиночество и грусть, ты сказал, что ...</td>\n",
       "      <td>[я, прощать, одиночество, и, грусть, ты, сказа...</td>\n",
       "      <td>positive</td>\n",
       "      <td>neutral</td>\n",
       "    </tr>\n",
       "    <tr>\n",
       "      <th>2925</th>\n",
       "      <td>Иногда увольняться полезно! ;)))</td>\n",
       "      <td>[иногда, увольнять, полезный, ), ), )]</td>\n",
       "      <td>neutral</td>\n",
       "      <td>positive</td>\n",
       "    </tr>\n",
       "    <tr>\n",
       "      <th>2927</th>\n",
       "      <td>Всем привет!!! 22 января мы играем в\\nWhat'sUp...</td>\n",
       "      <td>[весь, привет, январь, мы, играть, в, what'sup...</td>\n",
       "      <td>speech</td>\n",
       "      <td>neutral</td>\n",
       "    </tr>\n",
       "    <tr>\n",
       "      <th>2931</th>\n",
       "      <td>НУФВСё!!!\\n\\nГАМОВЕР УЧЕБЕ \\nя теперь маджистер</td>\n",
       "      <td>[нуфвсё, гамовирать, учеба, я, теперь, маджист...</td>\n",
       "      <td>neutral</td>\n",
       "      <td>positive</td>\n",
       "    </tr>\n",
       "    <tr>\n",
       "      <th>2932</th>\n",
       "      <td>Сегодня прогулялся с довольно интересной девуш...</td>\n",
       "      <td>[сегодня, прогуляться, с, довольно, интересный...</td>\n",
       "      <td>skip</td>\n",
       "      <td>negative</td>\n",
       "    </tr>\n",
       "    <tr>\n",
       "      <th>2937</th>\n",
       "      <td>многие пиздят в инете за этот фильм) от создат...</td>\n",
       "      <td>[многие, пиздить, в, инет, за, этот, фильм, ),...</td>\n",
       "      <td>negative</td>\n",
       "      <td>skip</td>\n",
       "    </tr>\n",
       "    <tr>\n",
       "      <th>2940</th>\n",
       "      <td>Танюшечка❤</td>\n",
       "      <td>[танюшечка❤]</td>\n",
       "      <td>neutral</td>\n",
       "      <td>positive</td>\n",
       "    </tr>\n",
       "    <tr>\n",
       "      <th>2942</th>\n",
       "      <td>кшод4 аркгаркгаи</td>\n",
       "      <td>[аркгаркгай]</td>\n",
       "      <td>neutral</td>\n",
       "      <td>skip</td>\n",
       "    </tr>\n",
       "    <tr>\n",
       "      <th>2944</th>\n",
       "      <td>Завтра в мене перший екзамен!</td>\n",
       "      <td>[завтра, в, я, перать, екзамен]</td>\n",
       "      <td>neutral</td>\n",
       "      <td>skip</td>\n",
       "    </tr>\n",
       "    <tr>\n",
       "      <th>2945</th>\n",
       "      <td>с регой!)кк учёба?</td>\n",
       "      <td>[с, рега, )ккать, учеба]</td>\n",
       "      <td>neutral</td>\n",
       "      <td>speech</td>\n",
       "    </tr>\n",
       "    <tr>\n",
       "      <th>2947</th>\n",
       "      <td>где встречать Новый Год,блиН????</td>\n",
       "      <td>[где, встречать, новый, год,блин]</td>\n",
       "      <td>speech</td>\n",
       "      <td>neutral</td>\n",
       "    </tr>\n",
       "    <tr>\n",
       "      <th>2949</th>\n",
       "      <td>Тащуся 8-)</td>\n",
       "      <td>[тащуся, )]</td>\n",
       "      <td>neutral</td>\n",
       "      <td>positive</td>\n",
       "    </tr>\n",
       "    <tr>\n",
       "      <th>2951</th>\n",
       "      <td>ПАЗДРАВЛЯЮ!!!</td>\n",
       "      <td>[паздравляю]</td>\n",
       "      <td>neutral</td>\n",
       "      <td>speech</td>\n",
       "    </tr>\n",
       "    <tr>\n",
       "      <th>2952</th>\n",
       "      <td>Оказывается, что в казармах напротив моего дом...</td>\n",
       "      <td>[оказываться, что, в, казарма, напротив, мой, ...</td>\n",
       "      <td>positive</td>\n",
       "      <td>neutral</td>\n",
       "    </tr>\n",
       "    <tr>\n",
       "      <th>2954</th>\n",
       "      <td>ВАЩЕЕЕ КРАСАВАА!!!</td>\n",
       "      <td>[ващео, красаваа.]</td>\n",
       "      <td>neutral</td>\n",
       "      <td>positive</td>\n",
       "    </tr>\n",
       "    <tr>\n",
       "      <th>2957</th>\n",
       "      <td>אימון קרב מגע מתקדם ביחידה מובחרת - Krav Maga</td>\n",
       "      <td>[אימון, קרב, מגע, מתקדם, ביחידה, מובחרת, krav,...</td>\n",
       "      <td>neutral</td>\n",
       "      <td>skip</td>\n",
       "    </tr>\n",
       "    <tr>\n",
       "      <th>2959</th>\n",
       "      <td>Бля я и забыл, какой он ахуенный!</td>\n",
       "      <td>[бля, я, и, забывать, какой, он, ахуать]</td>\n",
       "      <td>negative</td>\n",
       "      <td>positive</td>\n",
       "    </tr>\n",
       "    <tr>\n",
       "      <th>2960</th>\n",
       "      <td>История о том, как мои любимые одногруппнички ...</td>\n",
       "      <td>[история, о, то, как, мой, любимый, одногруппн...</td>\n",
       "      <td>positive</td>\n",
       "      <td>neutral</td>\n",
       "    </tr>\n",
       "    <tr>\n",
       "      <th>2961</th>\n",
       "      <td>Ярких эмоций, незабываемых встреч и полета душ...</td>\n",
       "      <td>[яркий, эмоция, незабываемый, встреча, и, поле...</td>\n",
       "      <td>positive</td>\n",
       "      <td>speech</td>\n",
       "    </tr>\n",
       "    <tr>\n",
       "      <th>2964</th>\n",
       "      <td>Ты одна половинка - я вторая половинка...... А...</td>\n",
       "      <td>[ты, один, половинка, я, второй, половинка, а,...</td>\n",
       "      <td>negative</td>\n",
       "      <td>skip</td>\n",
       "    </tr>\n",
       "    <tr>\n",
       "      <th>2966</th>\n",
       "      <td>Ахахахахах.Прикольно попереписувались.\\nаааааа...</td>\n",
       "      <td>[ахахахахы, прикольно, попереписуваться]</td>\n",
       "      <td>neutral</td>\n",
       "      <td>skip</td>\n",
       "    </tr>\n",
       "  </tbody>\n",
       "</table>\n",
       "<p>1026 rows × 4 columns</p>\n",
       "</div>"
      ],
      "text/plain": [
       "                                                   text  \\\n",
       "3     Мы просто с  [id12210212|Елисеем]  психанули )...   \n",
       "8     нельзя общаться с людьми, которые нуждаются в ...   \n",
       "11                                         Селфи дня ))   \n",
       "15                 Ураааа, нам сегодня три годика.....😊   \n",
       "17    Я не писал такое оскобление всем!!!!\\nМеня, ви...   \n",
       "18    ...и так начало мини отпуска))И новых приключе...   \n",
       "19    Кинул в чс обиделся холоп понял что недостоин ...   \n",
       "21    Лучше бы у Тани не было никакого оргазма: услы...   \n",
       "22    Аю,слова правильные,но такие унылые(((Сьешь ко...   \n",
       "23                                        и тебе няшку)   \n",
       "25    по кругу, твою подругу КСЮХУ....))))))ахахахаахах   \n",
       "26                                           без тебя_(   \n",
       "27    я прыгнул в бездну из уюта пора готовиться к з...   \n",
       "29                                    амммм, Каринка)))   \n",
       "30                                   З 19 вересня тебе!   \n",
       "31                                           Мы растем!   \n",
       "43    Я доверяю немногим. Но эти немногие, мне реаль...   \n",
       "47                                       ПИДОР го скайп   \n",
       "48                       чувак тупо лол___)) ахаххахаах   \n",
       "52    Я жаловался на мусор в ростовских рощах и парк...   \n",
       "54    Кто-то заходит на мою страничку, с умилением с...   \n",
       "60    Улыбайтесь, господа! \\nВсе глупости мира делаю...   \n",
       "63    После 6-ти часовой задержки в Бангкоке и второ...   \n",
       "67    Друзья - это редкие драгоценности, они принося...   \n",
       "68                                          Заболiв!(((   \n",
       "70    - Мадам, я вчера слышал ваше пение...\\n- О, чт...   \n",
       "72                           Ужассс извращёная девочка!   \n",
       "76    Для каждого хулигана найдется такая девушка, с...   \n",
       "81    [id27975702|Никита], Пффффффффффффффффффффффф ...   \n",
       "90    Кто знает, в какой гостинице Москвы лучше всег...   \n",
       "...                                                 ...   \n",
       "2901                                  мой эро рисунок))   \n",
       "2903  приспичило белке купить под конец осени кепку,...   \n",
       "2904  Вместо лиц - аватары..вместо настроения - стат...   \n",
       "2905  Вятка! Спасибо за великолепные выходные! Это б...   \n",
       "2907   Поздравте...у меня сегодня племянница радилась:)   \n",
       "2908  Я люблю свою сестричку!!!!\\nВона в мене найкра...   \n",
       "2911                          Вот оно - искусство!!! ))   \n",
       "2917  помню как было тяжело , но очень хочу это все ...   \n",
       "2920                       Когда-нибудь и мы поженимся.   \n",
       "2921  Я прощаю одиночество и грусть, ты сказал, что ...   \n",
       "2925                   Иногда увольняться полезно! ;)))   \n",
       "2927  Всем привет!!! 22 января мы играем в\\nWhat'sUp...   \n",
       "2931    НУФВСё!!!\\n\\nГАМОВЕР УЧЕБЕ \\nя теперь маджистер   \n",
       "2932  Сегодня прогулялся с довольно интересной девуш...   \n",
       "2937  многие пиздят в инете за этот фильм) от создат...   \n",
       "2940                                         Танюшечка❤   \n",
       "2942                                   кшод4 аркгаркгаи   \n",
       "2944                      Завтра в мене перший екзамен!   \n",
       "2945                                 с регой!)кк учёба?   \n",
       "2947                   где встречать Новый Год,блиН????   \n",
       "2949                                         Тащуся 8-)   \n",
       "2951                                      ПАЗДРАВЛЯЮ!!!   \n",
       "2952  Оказывается, что в казармах напротив моего дом...   \n",
       "2954                                 ВАЩЕЕЕ КРАСАВАА!!!   \n",
       "2957      אימון קרב מגע מתקדם ביחידה מובחרת - Krav Maga   \n",
       "2959                  Бля я и забыл, какой он ахуенный!   \n",
       "2960  История о том, как мои любимые одногруппнички ...   \n",
       "2961  Ярких эмоций, незабываемых встреч и полета душ...   \n",
       "2964  Ты одна половинка - я вторая половинка...... А...   \n",
       "2966  Ахахахахах.Прикольно попереписувались.\\nаааааа...   \n",
       "\n",
       "                                      lemmatized_tokens predicted    actual  \n",
       "3     [мы, просто, с, id12210212|елисей, психануть, ...  positive      skip  \n",
       "8     [нельзя, общаться, с, человек, который, нуждат...   neutral  negative  \n",
       "11                                  [селфи, день, ), )]   neutral  positive  \n",
       "15                 [ураааа, мы, сегодня, гектодикар, 😊]   neutral  positive  \n",
       "17    [я, не, писать, такой, оскоблений, все, я, вид...   neutral      skip  \n",
       "18    [...ь, так, начинать, минять, отпуск, ), ), и,...   neutral  positive  \n",
       "19    [кидать, в, чс, обижаться, холоп, понимать, чт...   neutral  negative  \n",
       "21    [хороший, бы, в, таня, не, быть, никакой, орга...   neutral      skip  \n",
       "22    [аю,слов, правильный, ,но, такой, унылый, (, (...  positive  negative  \n",
       "23                                    [и, ты, няшка, )]   neutral  positive  \n",
       "25    [по, круг, твой, подруга, ксюх, ), ), ), ), ),...   neutral      skip  \n",
       "26                                             [без, (]   neutral  negative  \n",
       "27    [я, прыгнуть, в, бездна, из, уют, пора, готови...   neutral  negative  \n",
       "29                            [амммма, каринк, ), ), )]   neutral      skip  \n",
       "30                                     [с, вересня, ты]   neutral      skip  \n",
       "31                                        [мы, растать]   neutral  positive  \n",
       "43    [я, доверять, немногое, но, этот, немногие, я,...   neutral  positive  \n",
       "47                                  [пидор, 1-й, скайп]   neutral      skip  \n",
       "48                        [чувак, тупо, ), ), ахаххаха]   neutral  positive  \n",
       "52    [я, жаловаться, на, мусор, в, ростовский, роща...   neutral  negative  \n",
       "54    [кто-то, заходить, на, мой, страничка, с, умил...   neutral  positive  \n",
       "60    [улыбаться, господин, весь, глупость, мир, дел...  positive   neutral  \n",
       "63    [после, 6, часовой, задержка, в, бангкок, и, в...   neutral  positive  \n",
       "67    [друг, это, редкий, драгоценность, они, принос...   neutral  positive  \n",
       "68                                   [заболiв, (, (, (]   neutral      skip  \n",
       "70    [мадам, я, вчера, слышать, ваш, пение, о, что,...  negative      skip  \n",
       "72                        [ужассс, извращёный, девочка]   neutral  negative  \n",
       "76    [для, каждый, хулиган, находиться, такой, деву...   neutral      skip  \n",
       "81    [id27975702|никита, пффффффффффффффффффффффф, ...   neutral  positive  \n",
       "90    [кто, знать, в, какой, гостиница, москва, хоро...  negative   neutral  \n",
       "...                                                 ...       ...       ...  \n",
       "2901                               [мой, рисунок, ), )]  positive   neutral  \n",
       "2903  [приспичить, белок, покупать, под, конец, осен...   neutral      skip  \n",
       "2904  [вместо, лицо, аватары., .вместо, настроение, ...   neutral  negative  \n",
       "2905  [вятка, спасибо, за, великолепный, выходной, э...  positive    speech  \n",
       "2907  [поздравте., ., я, сегодня, племянница, радить...   neutral  positive  \n",
       "2908   [я, любить, свой, сестричка, вона, в, я, цьом**]  positive      skip  \n",
       "2911                        [вот, оно, искусство, ), )]   neutral  positive  \n",
       "2917  [помнить, как, быть, тяжелый, но, очень, хотет...  positive  negative  \n",
       "2920                  [когда-нибудь, и, мы, пожениться]   neutral      skip  \n",
       "2921  [я, прощать, одиночество, и, грусть, ты, сказа...  positive   neutral  \n",
       "2925             [иногда, увольнять, полезный, ), ), )]   neutral  positive  \n",
       "2927  [весь, привет, январь, мы, играть, в, what'sup...    speech   neutral  \n",
       "2931  [нуфвсё, гамовирать, учеба, я, теперь, маджист...   neutral  positive  \n",
       "2932  [сегодня, прогуляться, с, довольно, интересный...      skip  negative  \n",
       "2937  [многие, пиздить, в, инет, за, этот, фильм, ),...  negative      skip  \n",
       "2940                                       [танюшечка❤]   neutral  positive  \n",
       "2942                                       [аркгаркгай]   neutral      skip  \n",
       "2944                    [завтра, в, я, перать, екзамен]   neutral      skip  \n",
       "2945                           [с, рега, )ккать, учеба]   neutral    speech  \n",
       "2947                  [где, встречать, новый, год,блин]    speech   neutral  \n",
       "2949                                        [тащуся, )]   neutral  positive  \n",
       "2951                                       [паздравляю]   neutral    speech  \n",
       "2952  [оказываться, что, в, казарма, напротив, мой, ...  positive   neutral  \n",
       "2954                                 [ващео, красаваа.]   neutral  positive  \n",
       "2957  [אימון, קרב, מגע, מתקדם, ביחידה, מובחרת, krav,...   neutral      skip  \n",
       "2959           [бля, я, и, забывать, какой, он, ахуать]  negative  positive  \n",
       "2960  [история, о, то, как, мой, любимый, одногруппн...  positive   neutral  \n",
       "2961  [яркий, эмоция, незабываемый, встреча, и, поле...  positive    speech  \n",
       "2964  [ты, один, половинка, я, второй, половинка, а,...  negative      skip  \n",
       "2966           [ахахахахы, прикольно, попереписуваться]   neutral      skip  \n",
       "\n",
       "[1026 rows x 4 columns]"
      ]
     },
     "execution_count": 77,
     "metadata": {},
     "output_type": "execute_result"
    }
   ],
   "source": [
    "errors"
   ]
  },
  {
   "cell_type": "markdown",
   "metadata": {},
   "source": [
    "### Default gradient-boosting classifier"
   ]
  },
  {
   "cell_type": "code",
   "execution_count": 154,
   "metadata": {},
   "outputs": [],
   "source": [
    "default_lgbc = lgb.LGBMClassifier()"
   ]
  },
  {
   "cell_type": "markdown",
   "metadata": {},
   "source": [
    "#### Fitting with validation set"
   ]
  },
  {
   "cell_type": "code",
   "execution_count": 180,
   "metadata": {
    "collapsed": true
   },
   "outputs": [
    {
     "name": "stdout",
     "output_type": "stream",
     "text": [
      "[1]\tvalid_0's multi_logloss: 1.56036\n",
      "[2]\tvalid_0's multi_logloss: 1.5197\n",
      "[3]\tvalid_0's multi_logloss: 1.48501\n",
      "[4]\tvalid_0's multi_logloss: 1.4553\n",
      "[5]\tvalid_0's multi_logloss: 1.42921\n",
      "[6]\tvalid_0's multi_logloss: 1.4064\n",
      "[7]\tvalid_0's multi_logloss: 1.38647\n",
      "[8]\tvalid_0's multi_logloss: 1.36835\n",
      "[9]\tvalid_0's multi_logloss: 1.35248\n",
      "[10]\tvalid_0's multi_logloss: 1.33785\n",
      "[11]\tvalid_0's multi_logloss: 1.32524\n",
      "[12]\tvalid_0's multi_logloss: 1.31393\n",
      "[13]\tvalid_0's multi_logloss: 1.30379\n",
      "[14]\tvalid_0's multi_logloss: 1.29416\n",
      "[15]\tvalid_0's multi_logloss: 1.28528\n",
      "[16]\tvalid_0's multi_logloss: 1.27744\n",
      "[17]\tvalid_0's multi_logloss: 1.26994\n",
      "[18]\tvalid_0's multi_logloss: 1.26333\n",
      "[19]\tvalid_0's multi_logloss: 1.25698\n",
      "[20]\tvalid_0's multi_logloss: 1.25123\n",
      "[21]\tvalid_0's multi_logloss: 1.24566\n",
      "[22]\tvalid_0's multi_logloss: 1.24062\n",
      "[23]\tvalid_0's multi_logloss: 1.23574\n",
      "[24]\tvalid_0's multi_logloss: 1.23159\n",
      "[25]\tvalid_0's multi_logloss: 1.22725\n",
      "[26]\tvalid_0's multi_logloss: 1.22349\n",
      "[27]\tvalid_0's multi_logloss: 1.21971\n",
      "[28]\tvalid_0's multi_logloss: 1.21609\n",
      "[29]\tvalid_0's multi_logloss: 1.21272\n",
      "[30]\tvalid_0's multi_logloss: 1.20957\n",
      "[31]\tvalid_0's multi_logloss: 1.20656\n",
      "[32]\tvalid_0's multi_logloss: 1.20344\n",
      "[33]\tvalid_0's multi_logloss: 1.20083\n",
      "[34]\tvalid_0's multi_logloss: 1.19832\n",
      "[35]\tvalid_0's multi_logloss: 1.19567\n",
      "[36]\tvalid_0's multi_logloss: 1.1932\n",
      "[37]\tvalid_0's multi_logloss: 1.1909\n",
      "[38]\tvalid_0's multi_logloss: 1.18853\n",
      "[39]\tvalid_0's multi_logloss: 1.18645\n",
      "[40]\tvalid_0's multi_logloss: 1.18436\n",
      "[41]\tvalid_0's multi_logloss: 1.18251\n",
      "[42]\tvalid_0's multi_logloss: 1.1805\n",
      "[43]\tvalid_0's multi_logloss: 1.17869\n",
      "[44]\tvalid_0's multi_logloss: 1.17685\n",
      "[45]\tvalid_0's multi_logloss: 1.17546\n",
      "[46]\tvalid_0's multi_logloss: 1.17433\n",
      "[47]\tvalid_0's multi_logloss: 1.17292\n",
      "[48]\tvalid_0's multi_logloss: 1.17137\n",
      "[49]\tvalid_0's multi_logloss: 1.17008\n",
      "[50]\tvalid_0's multi_logloss: 1.16876\n",
      "[51]\tvalid_0's multi_logloss: 1.16766\n",
      "[52]\tvalid_0's multi_logloss: 1.1665\n",
      "[53]\tvalid_0's multi_logloss: 1.16549\n",
      "[54]\tvalid_0's multi_logloss: 1.16419\n",
      "[55]\tvalid_0's multi_logloss: 1.16281\n",
      "[56]\tvalid_0's multi_logloss: 1.16185\n",
      "[57]\tvalid_0's multi_logloss: 1.1607\n",
      "[58]\tvalid_0's multi_logloss: 1.15979\n",
      "[59]\tvalid_0's multi_logloss: 1.159\n",
      "[60]\tvalid_0's multi_logloss: 1.158\n",
      "[61]\tvalid_0's multi_logloss: 1.1569\n",
      "[62]\tvalid_0's multi_logloss: 1.15594\n",
      "[63]\tvalid_0's multi_logloss: 1.15494\n",
      "[64]\tvalid_0's multi_logloss: 1.15399\n",
      "[65]\tvalid_0's multi_logloss: 1.15284\n",
      "[66]\tvalid_0's multi_logloss: 1.15198\n",
      "[67]\tvalid_0's multi_logloss: 1.15125\n",
      "[68]\tvalid_0's multi_logloss: 1.15053\n",
      "[69]\tvalid_0's multi_logloss: 1.14972\n",
      "[70]\tvalid_0's multi_logloss: 1.14883\n",
      "[71]\tvalid_0's multi_logloss: 1.14821\n",
      "[72]\tvalid_0's multi_logloss: 1.1475\n",
      "[73]\tvalid_0's multi_logloss: 1.14689\n",
      "[74]\tvalid_0's multi_logloss: 1.14617\n",
      "[75]\tvalid_0's multi_logloss: 1.14553\n",
      "[76]\tvalid_0's multi_logloss: 1.145\n",
      "[77]\tvalid_0's multi_logloss: 1.14456\n",
      "[78]\tvalid_0's multi_logloss: 1.14419\n",
      "[79]\tvalid_0's multi_logloss: 1.14363\n",
      "[80]\tvalid_0's multi_logloss: 1.14319\n",
      "[81]\tvalid_0's multi_logloss: 1.14284\n",
      "[82]\tvalid_0's multi_logloss: 1.14235\n",
      "[83]\tvalid_0's multi_logloss: 1.1419\n",
      "[84]\tvalid_0's multi_logloss: 1.14135\n",
      "[85]\tvalid_0's multi_logloss: 1.14107\n",
      "[86]\tvalid_0's multi_logloss: 1.14067\n",
      "[87]\tvalid_0's multi_logloss: 1.14015\n",
      "[88]\tvalid_0's multi_logloss: 1.13974\n",
      "[89]\tvalid_0's multi_logloss: 1.13937\n",
      "[90]\tvalid_0's multi_logloss: 1.13901\n",
      "[91]\tvalid_0's multi_logloss: 1.13856\n",
      "[92]\tvalid_0's multi_logloss: 1.13828\n",
      "[93]\tvalid_0's multi_logloss: 1.13783\n",
      "[94]\tvalid_0's multi_logloss: 1.13741\n",
      "[95]\tvalid_0's multi_logloss: 1.137\n",
      "[96]\tvalid_0's multi_logloss: 1.13652\n",
      "[97]\tvalid_0's multi_logloss: 1.13621\n",
      "[98]\tvalid_0's multi_logloss: 1.13596\n",
      "[99]\tvalid_0's multi_logloss: 1.13542\n",
      "[100]\tvalid_0's multi_logloss: 1.13521\n"
     ]
    }
   ],
   "source": [
    "default_lgbc.fit(X = X_train_split, y = Y_train_split, eval_set=[(X_valid,Y_valid)]);"
   ]
  },
  {
   "cell_type": "code",
   "execution_count": 183,
   "metadata": {},
   "outputs": [
    {
     "name": "stdout",
     "output_type": "stream",
     "text": [
      "Precision: 0.6238\n",
      "Recall: 0.6380\n",
      "f1-score: 0.5929\n"
     ]
    }
   ],
   "source": [
    "check_model(default_lgbc.predict(X_test_vect), Y_test)"
   ]
  },
  {
   "cell_type": "markdown",
   "metadata": {},
   "source": [
    "#### Fitting without validation set"
   ]
  },
  {
   "cell_type": "code",
   "execution_count": 185,
   "metadata": {},
   "outputs": [
    {
     "data": {
      "text/plain": [
       "LGBMClassifier(boosting_type='gbdt', class_weight=None, colsample_bytree=1.0,\n",
       "        importance_type='split', learning_rate=0.1, max_depth=-1,\n",
       "        min_child_samples=20, min_child_weight=0.001, min_split_gain=0.0,\n",
       "        n_estimators=100, n_jobs=-1, num_leaves=31, objective=None,\n",
       "        random_state=None, reg_alpha=0.0, reg_lambda=0.0, silent=True,\n",
       "        subsample=1.0, subsample_for_bin=200000, subsample_freq=0)"
      ]
     },
     "execution_count": 185,
     "metadata": {},
     "output_type": "execute_result"
    }
   ],
   "source": [
    "default_lgbc.fit(X = X_train_vect, y = Y_train)"
   ]
  },
  {
   "cell_type": "code",
   "execution_count": 186,
   "metadata": {},
   "outputs": [
    {
     "name": "stdout",
     "output_type": "stream",
     "text": [
      "Precision: 0.6314\n",
      "Recall: 0.6481\n",
      "f1-score: 0.6082\n"
     ]
    }
   ],
   "source": [
    "check_model(default_lgbc.predict(X_test_vect),Y_test)"
   ]
  },
  {
   "cell_type": "markdown",
   "metadata": {},
   "source": [
    "### Parameters tuning"
   ]
  },
  {
   "cell_type": "code",
   "execution_count": null,
   "metadata": {},
   "outputs": [],
   "source": [
    "#learning rate (default = 0.1) - small with large num_iterations\n",
    "#n_estimators (default =100) - large\n"
   ]
  },
  {
   "cell_type": "code",
   "execution_count": 189,
   "metadata": {},
   "outputs": [],
   "source": [
    "from  sklearn.model_selection import GridSearchCV"
   ]
  },
  {
   "cell_type": "code",
   "execution_count": 191,
   "metadata": {},
   "outputs": [],
   "source": [
    "param_grid = {'learning_rate':[0.1, 0.05, 0.01],\n",
    "              'n_estimators':[100,200,300]}"
   ]
  },
  {
   "cell_type": "code",
   "execution_count": 201,
   "metadata": {},
   "outputs": [],
   "source": [
    "grid = GridSearchCV(estimator=default_lgbc, param_grid = param_grid )"
   ]
  },
  {
   "cell_type": "code",
   "execution_count": null,
   "metadata": {},
   "outputs": [],
   "source": [
    "#grid = RandomizedSearchCV(svc_pipeline, param_grid, n_iter=10, scoring='f1_macro', cv=skf, n_jobs=-1)"
   ]
  },
  {
   "cell_type": "code",
   "execution_count": 205,
   "metadata": {},
   "outputs": [
    {
     "name": "stderr",
     "output_type": "stream",
     "text": [
      "/home/friday/anaconda3/envs/boringname/lib/python3.6/site-packages/sklearn/model_selection/_split.py:1943: FutureWarning: You should specify a value for 'cv' instead of relying on the default value. The default value will change from 3 to 5 in version 0.22.\n",
      "  warnings.warn(CV_WARNING, FutureWarning)\n"
     ]
    }
   ],
   "source": [
    "grid_model = grid.fit(X = X_train_vect, y = Y_train)"
   ]
  },
  {
   "cell_type": "code",
   "execution_count": 206,
   "metadata": {},
   "outputs": [
    {
     "data": {
      "text/plain": [
       "{'learning_rate': 0.05, 'n_estimators': 200}"
      ]
     },
     "execution_count": 206,
     "metadata": {},
     "output_type": "execute_result"
    }
   ],
   "source": [
    "grid_model.best_params_"
   ]
  },
  {
   "cell_type": "code",
   "execution_count": 210,
   "metadata": {},
   "outputs": [
    {
     "name": "stdout",
     "output_type": "stream",
     "text": [
      "Precision: 0.6253\n",
      "Recall: 0.6461\n",
      "f1-score: 0.6049\n"
     ]
    }
   ],
   "source": [
    "\n",
    "check_model(grid_model.predict(X_test_vect),Y_test)"
   ]
  }
 ],
 "metadata": {
  "kernelspec": {
   "display_name": "Python 3",
   "language": "python",
   "name": "python3"
  },
  "language_info": {
   "codemirror_mode": {
    "name": "ipython",
    "version": 3
   },
   "file_extension": ".py",
   "mimetype": "text/x-python",
   "name": "python",
   "nbconvert_exporter": "python",
   "pygments_lexer": "ipython3",
   "version": "3.6.6"
  }
 },
 "nbformat": 4,
 "nbformat_minor": 2
}
